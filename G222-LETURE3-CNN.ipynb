{
 "cells": [
  {
   "cell_type": "code",
   "execution_count": 14,
   "metadata": {},
   "outputs": [],
   "source": [
    "from __future__ import print_function\n",
    "import keras\n",
    "from keras.datasets import mnist\n",
    "from keras.models import Sequential\n",
    "from keras.layers import Dense, Dropout, Flatten\n",
    "from keras.layers import Conv2D, MaxPooling2D\n",
    "from keras import backend as K\n",
    "from keras.optimizers import RMSprop\n",
    "import numpy as np\n",
    "from keras.callbacks import ReduceLROnPlateau\n",
    "import matplotlib.pyplot as plt"
   ]
  },
  {
   "cell_type": "code",
   "execution_count": 15,
   "metadata": {
    "collapsed": true
   },
   "outputs": [],
   "source": [
    "batch_size = 128\n",
    "num_classes = 10\n",
    "epochs = 20"
   ]
  },
  {
   "cell_type": "code",
   "execution_count": 16,
   "metadata": {
    "collapsed": true
   },
   "outputs": [],
   "source": [
    "# input image dimensions\n",
    "img_rows, img_cols = 28, 28\n",
    "\n",
    "# the data, shuffled and split between train and test sets\n",
    "(x_train, y_train), (x_test, y_test) = mnist.load_data()"
   ]
  },
  {
   "cell_type": "code",
   "execution_count": 17,
   "metadata": {},
   "outputs": [
    {
     "data": {
      "image/png": "[encoded data removed]",
      "text/plain": [
       "<matplotlib.figure.Figure at 0x7f496d91b550>"
      ]
     },
     "metadata": {},
     "output_type": "display_data"
    }
   ],
   "source": [
    "#print the former 6 train images below\n",
    "import matplotlib.pyplot as plt\n",
    "plt.subplot(321)\n",
    "plt.imshow(x_train[0],cmap=plt.get_cmap('gray'))\n",
    "\n",
    "plt.subplot(322)\n",
    "plt.imshow(x_train[1],cmap=plt.get_cmap('gray'))\n",
    "\n",
    "plt.subplot(323)\n",
    "plt.imshow(x_train[2],cmap=plt.get_cmap('gray'))\n",
    "\n",
    "plt.subplot(324)\n",
    "plt.imshow(x_train[3],cmap=plt.get_cmap('gray'))\n",
    "\n",
    "plt.subplot(325)\n",
    "plt.imshow(x_train[4],cmap=plt.get_cmap('gray'))\n",
    "\n",
    "plt.subplot(326)\n",
    "plt.imshow(x_train[5],cmap=plt.get_cmap('gray'))\n",
    "plt.show()\n"
   ]
  },
  {
   "cell_type": "code",
   "execution_count": 18,
   "metadata": {
    "collapsed": true
   },
   "outputs": [],
   "source": [
    "if K.image_data_format() == 'channels_first':  ##reshape it so that it is suitable for use training a CNN. \n",
    "    #In Keras, the layers used for two-dimensional convolutions expect pixel values with the dimensions [pixels][width][height].\n",
    "    x_train = x_train.reshape(x_train.shape[0], 1, img_rows, img_cols).astype('float32')\n",
    "    x_test = x_test.reshape(x_test.shape[0], 1, img_rows, img_cols).astype('float32')\n",
    "    input_shape = (1, img_rows, img_cols)\n",
    "else:\n",
    "    x_train = x_train.reshape(x_train.shape[0], img_rows, img_cols, 1).astype('float32')\n",
    "    x_test = x_test.reshape(x_test.shape[0], img_rows, img_cols, 1).astype('float32')\n",
    "    input_shape = (img_rows, img_cols, 1)"
   ]
  },
  {
   "cell_type": "code",
   "execution_count": 19,
   "metadata": {
    "collapsed": true
   },
   "outputs": [],
   "source": [
    "# In order to speed up the convergence, we may normalize the input values\n",
    "# so that they are in the range of (0, 1) for (-1, 1)\n",
    "# Your code here.\n",
    "X_train =x_train/255.0\n",
    "X_test =x_test/255.0"
   ]
  },
  {
   "cell_type": "code",
   "execution_count": 20,
   "metadata": {},
   "outputs": [
    {
     "name": "stdout",
     "output_type": "stream",
     "text": [
      "x_train shape: (60000, 28, 28, 1)\n",
      "60000 train samples\n",
      "10000 test samples\n"
     ]
    }
   ],
   "source": [
    "print('x_train shape:', x_train.shape)\n",
    "print(x_train.shape[0], 'train samples')\n",
    "print(x_test.shape[0], 'test samples')"
   ]
  },
  {
   "cell_type": "code",
   "execution_count": 21,
   "metadata": {
    "collapsed": true
   },
   "outputs": [],
   "source": [
    "# Encode labels to one hot vectors (ex : 2 -> [0,0,1,0,0,0,0,0,0,0])\n",
    "y_train = keras.utils.to_categorical(y_train,num_classes)\n",
    "y_test = keras.utils.to_categorical(y_test,num_classes)\n",
    "\n",
    "model = Sequential()"
   ]
  },
  {
   "cell_type": "code",
   "execution_count": 22,
   "metadata": {
    "collapsed": true
   },
   "outputs": [],
   "source": [
    "# Please build up a simple ConvNets by stacking a few conovlutioanl layers (kenel size with 3x3\n",
    "# is a good choice, don't foget using non-linear activations for convolutional layers),\n",
    "# max-pooling layers, dropout layers and dense/fully-connected layers.\n",
    "\n",
    "# Set the CNN model \n",
    "# my CNN architechture is In -> [[Conv2D->relu]*2 -> MaxPool2D -> Dropout]*2 -> Flatten -> Dense -> Out\n",
    "model.add(Conv2D(64,(3,3),activation='relu',input_shape=input_shape))\n",
    "model.add(Conv2D(64,(3,3),activation='relu'))\n",
    "model.add(MaxPooling2D(pool_size=(2,2)))\n",
    "\n",
    "\n",
    "model.add(Dropout(0.2))##drop 20% data\n",
    "model.add(Conv2D(64,(3,3),activation='relu'))\n",
    "model.add(Conv2D(64,(3,3),activation='relu'))\n",
    "model.add(MaxPooling2D(pool_size=(2,2)))\n",
    "model.add(Dropout(0.2))\n",
    "model.add(Flatten())\n",
    "model.add(Dense(256,activation='relu'))\n",
    "model.add(Dense(num_classes, activation='softmax'))\n",
    "          "
   ]
  },
  {
   "cell_type": "code",
   "execution_count": 23,
   "metadata": {
    "collapsed": true
   },
   "outputs": [],
   "source": [
    "# complete the loss and optimizer\n",
    "# Hints: use the cross-entropy loss, optimizer could be SGD or Adam, RMSProp, etc.\n",
    "# Feel free to try different hyper-parameters.\n",
    "model.compile(loss=keras.losses.categorical_crossentropy,\n",
    "              optimizer=keras.optimizers.Adadelta(),  ##use ADAM here\n",
    "              metrics=['accuracy'])"
   ]
  },
  {
   "cell_type": "code",
   "execution_count": 24,
   "metadata": {
    "collapsed": true
   },
   "outputs": [],
   "source": [
    "# Extra Points 1: use data augmentation in the progress of model training.\n",
    "# Note that data augmentation is a practical technique for reducing overfitting.\n",
    "# Hints: you may refer to https://keras.io/preprocessing/image/\n",
    "# Your code here\n",
    "# x_train = data_augment(...)\n"
   ]
  },
  {
   "cell_type": "code",
   "execution_count": 25,
   "metadata": {
    "collapsed": true
   },
   "outputs": [],
   "source": [
    "# Extra Points 2: use K-Fold cross-validation for ensembling k models,\n",
    "# i.e. (1) split the whole training data into K folds;\n",
    "#      (2) train K models based on different training data;\n",
    "#      (3) when evaludating the testing data, averaging over K model predictions as final output.\n",
    "# The codes may look like:\n",
    "#   for i in range(K):\n",
    "#       x_train, y_train = ...\n",
    "#       model_i = train(x_train , y_train)"
   ]
  },
  {
   "cell_type": "code",
   "execution_count": 26,
   "metadata": {},
   "outputs": [
    {
     "name": "stdout",
     "output_type": "stream",
     "text": [
      "Train on 60000 samples, validate on 10000 samples\n",
      "Epoch 1/20\n",
      "60000/60000 [==============================] - 18s - loss: 0.7138 - acc: 0.8918 - val_loss: 0.0536 - val_acc: 0.9825\n",
      "Epoch 2/20\n",
      "60000/60000 [==============================] - 18s - loss: 0.0778 - acc: 0.9755 - val_loss: 0.0404 - val_acc: 0.9869\n",
      "Epoch 3/20\n",
      "60000/60000 [==============================] - 18s - loss: 0.0498 - acc: 0.9841 - val_loss: 0.0344 - val_acc: 0.9897\n",
      "Epoch 4/20\n",
      "60000/60000 [==============================] - 18s - loss: 0.0381 - acc: 0.9883 - val_loss: 0.0244 - val_acc: 0.9931\n",
      "Epoch 5/20\n",
      "60000/60000 [==============================] - 18s - loss: 0.0298 - acc: 0.9903 - val_loss: 0.0375 - val_acc: 0.9883\n",
      "Epoch 6/20\n",
      "60000/60000 [==============================] - 18s - loss: 0.0270 - acc: 0.9913 - val_loss: 0.0258 - val_acc: 0.9924\n",
      "Epoch 7/20\n",
      "60000/60000 [==============================] - 18s - loss: 0.0219 - acc: 0.9932 - val_loss: 0.0268 - val_acc: 0.9918\n",
      "Epoch 8/20\n",
      "60000/60000 [==============================] - 18s - loss: 0.0198 - acc: 0.9937 - val_loss: 0.0246 - val_acc: 0.9929\n",
      "Epoch 9/20\n",
      "60000/60000 [==============================] - 17s - loss: 0.0172 - acc: 0.9943 - val_loss: 0.0203 - val_acc: 0.9937\n",
      "Epoch 10/20\n",
      "60000/60000 [==============================] - 18s - loss: 0.0149 - acc: 0.9955 - val_loss: 0.0208 - val_acc: 0.9937\n",
      "Epoch 11/20\n",
      "60000/60000 [==============================] - 18s - loss: 0.0136 - acc: 0.9957 - val_loss: 0.0270 - val_acc: 0.9929\n",
      "Epoch 12/20\n",
      "60000/60000 [==============================] - 18s - loss: 0.0119 - acc: 0.9960 - val_loss: 0.0220 - val_acc: 0.9930\n",
      "Epoch 13/20\n",
      "60000/60000 [==============================] - 17s - loss: 0.0105 - acc: 0.9965 - val_loss: 0.0206 - val_acc: 0.9940\n",
      "Epoch 14/20\n",
      "60000/60000 [==============================] - 18s - loss: 0.0094 - acc: 0.9970 - val_loss: 0.0221 - val_acc: 0.9940\n",
      "Epoch 15/20\n",
      "60000/60000 [==============================] - 17s - loss: 0.0096 - acc: 0.9967 - val_loss: 0.0257 - val_acc: 0.9942\n",
      "Epoch 16/20\n",
      "60000/60000 [==============================] - 17s - loss: 0.0076 - acc: 0.9977 - val_loss: 0.0231 - val_acc: 0.9941\n",
      "Epoch 17/20\n",
      "60000/60000 [==============================] - 17s - loss: 0.0066 - acc: 0.9978 - val_loss: 0.0212 - val_acc: 0.9944\n",
      "Epoch 18/20\n",
      "60000/60000 [==============================] - 18s - loss: 0.0076 - acc: 0.9977 - val_loss: 0.0228 - val_acc: 0.9940\n",
      "Epoch 19/20\n",
      "60000/60000 [==============================] - 17s - loss: 0.0062 - acc: 0.9981 - val_loss: 0.0318 - val_acc: 0.9930\n",
      "Epoch 20/20\n",
      "60000/60000 [==============================] - 17s - loss: 0.0060 - acc: 0.9981 - val_loss: 0.0308 - val_acc: 0.9940\n"
     ]
    },
    {
     "data": {
      "image/png": "[encoded data removed]",
      "text/plain": [
       "<matplotlib.figure.Figure at 0x7f496cba16d8>"
      ]
     },
     "metadata": {},
     "output_type": "display_data"
    },
    {
     "name": "stdout",
     "output_type": "stream",
     "text": [
      "Final test loss: 0.0308242142628\n",
      "Final test accuracy: 0.994\n"
     ]
    }
   ],
   "source": [
    "history=model.fit(x_train, y_train,\n",
    "          batch_size=batch_size,\n",
    "          epochs=epochs,\n",
    "          verbose=1,\n",
    "          validation_data=(x_test, y_test))\n",
    "score = model.evaluate(x_test, y_test, verbose=0)\n",
    "\n",
    "\n",
    "\n",
    "fig, ax=plt.subplots(2,1)                    \n",
    "ax[0].plot(history.history['loss'], color='b', label=\"Training loss\") ##this is how to plot the accuracy and loss in keras\n",
    "ax[0].plot(history.history['val_loss'], color='r', label=\"validation loss\",axes =ax[0])\n",
    "legend = ax[0].legend(loc='best', shadow=True)\n",
    "\n",
    "ax[1].plot(history.history['acc'], color='b', label=\"Training accuracy\")\n",
    "ax[1].plot(history.history['val_acc'], color='r',label=\"Validation accuracy\")\n",
    "legend = ax[1].legend(loc='best', shadow=True)\n",
    "plt.show()\n",
    "\n",
    "print('Final test loss:', score[0])  # print the final result\n",
    "print('Final test accuracy:', score[1])"
   ]
  },
  {
   "cell_type": "code",
   "execution_count": null,
   "metadata": {
    "collapsed": true
   },
   "outputs": [],
   "source": []
  }
 ],
 "metadata": {
  "kernelspec": {
   "display_name": "Python 3",
   "language": "python",
   "name": "python3"
  },
  "language_info": {
   "codemirror_mode": {
    "name": "ipython",
    "version": 3
   },
   "file_extension": ".py",
   "mimetype": "text/x-python",
   "name": "python",
   "nbconvert_exporter": "python",
   "pygments_lexer": "ipython3",
   "version": "3.6.1"
  }
 },
 "nbformat": 4,
 "nbformat_minor": 2
}
